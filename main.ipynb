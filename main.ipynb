{
 "cells": [
  {
   "cell_type": "markdown",
   "id": "0382543b-8076-46b1-ada9-a2389b9820c9",
   "metadata": {},
   "source": [
    "# reference taken from https://huggingface.co/blog/how-to-generate"
   ]
  },
  {
   "cell_type": "code",
   "execution_count": 1,
   "id": "95aa92f6-4d47-49a3-9cd9-0e09a45ecda7",
   "metadata": {},
   "outputs": [
    {
     "name": "stdout",
     "output_type": "stream",
     "text": [
      "\n",
      "\u001b[1m[\u001b[0m\u001b[34;49mnotice\u001b[0m\u001b[1;39;49m]\u001b[0m\u001b[39;49m A new release of pip is available: \u001b[0m\u001b[31;49m23.3.2\u001b[0m\u001b[39;49m -> \u001b[0m\u001b[32;49m24.0\u001b[0m\n",
      "\u001b[1m[\u001b[0m\u001b[34;49mnotice\u001b[0m\u001b[1;39;49m]\u001b[0m\u001b[39;49m To update, run: \u001b[0m\u001b[32;49mpython3 -m pip install --upgrade pip\u001b[0m\n"
     ]
    }
   ],
   "source": [
    "!pip install -q transformers"
   ]
  },
  {
   "cell_type": "code",
   "execution_count": 10,
   "id": "090702b5-9e0a-43f3-a7fd-ba349f726bc5",
   "metadata": {},
   "outputs": [],
   "source": [
    "from transformers import AutoModelForCausalLM, AutoTokenizer, GPT2LMHeadModel\n",
    "import torch"
   ]
  },
  {
   "cell_type": "code",
   "execution_count": 11,
   "id": "30161252-1646-4464-bf0f-6b97f167ec64",
   "metadata": {},
   "outputs": [
    {
     "data": {
      "application/vnd.jupyter.widget-view+json": {
       "model_id": "61b90268962241b0a3e1920d15911d2d",
       "version_major": 2,
       "version_minor": 0
      },
      "text/plain": [
       "generation_config.json:   0%|          | 0.00/124 [00:00<?, ?B/s]"
      ]
     },
     "metadata": {},
     "output_type": "display_data"
    }
   ],
   "source": [
    "torch_device = \"cuda\" if torch.cuda.is_available() else \"cpu\"\n",
    "tokenizer = AutoTokenizer.from_pretrained(\"gpt2\")\n",
    "\n",
    "model = GPT2LMHeadModel.from_pretrained(\"gpt2\", pad_token_id=tokenizer.eos_token_id).to(torch_device)"
   ]
  },
  {
   "cell_type": "markdown",
   "id": "6899f4c8-08ee-438f-8b69-ae37f43b3872",
   "metadata": {},
   "source": [
    "### Greedy Search"
   ]
  },
  {
   "cell_type": "code",
   "execution_count": 12,
   "id": "0d355084-fa41-454f-a981-c5c9c9a0643a",
   "metadata": {},
   "outputs": [
    {
     "name": "stdout",
     "output_type": "stream",
     "text": [
      "Output:\n",
      "----------------------------------------------------------------------------------------------------\n",
      "So, there is this girl who is a little bit older than me, and she's a little bit older than me. She's a little bit older than me. She's a little bit older than me. She's a\n"
     ]
    }
   ],
   "source": [
    "model_inputs = tokenizer('So, there is this girl', return_tensors='pt').to(torch_device)\n",
    "\n",
    "greedy_output = model.generate(**model_inputs, max_new_tokens=40)\n",
    "\n",
    "print(\"Output:\\n\" + 100 * '-')\n",
    "print(tokenizer.decode(greedy_output[0], skip_special_tokens=True))"
   ]
  },
  {
   "cell_type": "markdown",
   "id": "90a86c62-c251-45de-865b-7f1e69f91a29",
   "metadata": {},
   "source": [
    "### Beam Search"
   ]
  },
  {
   "cell_type": "code",
   "execution_count": 16,
   "id": "cd35123c-cb56-46b0-9f5e-67ddf799bdb7",
   "metadata": {},
   "outputs": [
    {
     "name": "stdout",
     "output_type": "stream",
     "text": [
      "Output:\n",
      "----------------------------------------------------------------------------------------------------\n",
      "So, there is this girl. She's in the middle of the night, and she's trying to figure out what's going on in her life.\n",
      "\n",
      "I'm not going to lie to you. I've never seen a girl like that before. And I think that's why I love her so much. Because I know that she has a lot of things going for her that I don't think she can handle. But I'm sure she'll find a way to get through it. It's just a matter of\n"
     ]
    }
   ],
   "source": [
    "beam_output = model.generate(\n",
    "    **model_inputs,\n",
    "    max_new_tokens = 100,\n",
    "    num_beams = 5,\n",
    "    no_repeat_ngram_size=2,\n",
    "    early_stopping = True\n",
    ")\n",
    "\n",
    "print(\"Output:\\n\" + 100 * '-')\n",
    "print(tokenizer.decode(beam_output[0], skip_special_tokens=True))"
   ]
  },
  {
   "cell_type": "markdown",
   "id": "1ac0ace3-c5f8-49bb-a942-89009433e2a8",
   "metadata": {},
   "source": [
    "### Sampling"
   ]
  },
  {
   "cell_type": "code",
   "execution_count": 20,
   "id": "0793b1e3-3b1b-4152-ad5f-145e8742e846",
   "metadata": {},
   "outputs": [
    {
     "name": "stdout",
     "output_type": "stream",
     "text": [
      "Output:\n",
      "----------------------------------------------------------------------------------------------------\n",
      "So, there is this girl who you can't even remember. She's a little skinny, and she's a girl you can't even remember. She's a girl you can't even remember. And she's not your friend. *I'm sorry* *sorry* *\n"
     ]
    }
   ],
   "source": [
    "from transformers import set_seed\n",
    "set_seed(42)\n",
    "\n",
    "sample_output = model.generate(\n",
    "    **model_inputs,\n",
    "    max_new_tokens=50,\n",
    "    do_sample=True,\n",
    "    top_k=0,\n",
    "    temperature=0.7\n",
    ")\n",
    "\n",
    "print(\"Output:\\n\" + 100 * '-')\n",
    "print(tokenizer.decode(sample_output[0], skip_special_tokens=True))"
   ]
  },
  {
   "cell_type": "markdown",
   "id": "44598761-d875-4fbc-81fa-c453c388decd",
   "metadata": {},
   "source": [
    "### Top K"
   ]
  },
  {
   "cell_type": "code",
   "execution_count": 23,
   "id": "fa43b75d-c133-4bb4-86cb-e780206f0fb7",
   "metadata": {},
   "outputs": [
    {
     "name": "stdout",
     "output_type": "stream",
     "text": [
      "Output:\n",
      "----------------------------------------------------------------------------------------------------\n",
      "So, there is this girl, you know that girl who is really hot. So, in this big room she's talking to you like a real girl. Like, the girl who gives you such a big blowjob, like fucking your ass from high above and into a massive cock and fucking her up there. So, I want something nice. I want to get something out of it. I want to play with you for a bit.\n",
      "\n",
      "And right before I get done.\n",
      "\n",
      "And I know what you all\n"
     ]
    }
   ],
   "source": [
    "set_seed(42)\n",
    "\n",
    "sample_output = model.generate(\n",
    "    **model_inputs,\n",
    "    max_new_tokens=100,\n",
    "    do_sample=True,\n",
    "    top_k=50\n",
    ")\n",
    "\n",
    "print(\"Output:\\n\" + 100 * '-')\n",
    "print(tokenizer.decode(sample_output[0], skip_special_tokens=True))"
   ]
  },
  {
   "cell_type": "markdown",
   "id": "9ac0f375-7f33-4249-9006-d5b41b92beec",
   "metadata": {},
   "source": [
    "### Top P sampling"
   ]
  },
  {
   "cell_type": "code",
   "execution_count": 29,
   "id": "4b2c9ed3-cd54-4922-bd2a-eadf35e9dc5d",
   "metadata": {},
   "outputs": [
    {
     "name": "stdout",
     "output_type": "stream",
     "text": [
      "Output:\n",
      "----------------------------------------------------------------------------------------------------\n",
      "0: So, there is this girl, who is in this movie, who she says has a big penis. And what she says is that it has been a while since she has had one. I mean, it's been six months, six years. It was all going on for about three, four, five weeks. And she said, \"Well, well, well, I think I'm going to have to change something about my life.\" She said, \"If you want to change anything about your life, I guess you\n",
      "1: So, there is this girl who told me about this kind of thing at the last round of the meet. She has a lot of weird faces, some of them like this person. She is from a village outside of the city. They have a bunch of weird hair. This is the girl who was going to start to play with them, as she thought it was so funny. I guess she is a shy girl. But in reality it looks like a normal kid. In an anime, everyone says that the name of someone\n",
      "2: So, there is this girl who is doing this: the one that is actually working on my novel. The person who is making me do the actual thing. It's not me saying, 'I want you to come and tell me what to do, right?' I tell her it's not me, I want to talk about it, but when I'm writing my story and what I'm trying to do, I'm making the scene, and she's actually watching this film. It's so fucking weird and so completely inappropriate\n"
     ]
    }
   ],
   "source": [
    "set_seed(42)\n",
    "\n",
    "sample_outputs = model.generate(\n",
    "    **model_inputs,\n",
    "    max_new_tokens=100,\n",
    "    do_sample=True,\n",
    "    top_p=0.95,\n",
    "    top_k=50,\n",
    "    num_return_sequences=3,\n",
    ")\n",
    "\n",
    "print(\"Output:\\n\" + 100 * '-')\n",
    "for i, sample_output in enumerate(sample_outputs):\n",
    "    print(\"{}: {}\".format(i, tokenizer.decode(sample_output, skip_special_tokens=True)))"
   ]
  },
  {
   "cell_type": "code",
   "execution_count": null,
   "id": "cb508b77-3e84-4a7c-a10d-7dfc861c655f",
   "metadata": {},
   "outputs": [],
   "source": []
  }
 ],
 "metadata": {
  "kernelspec": {
   "display_name": "Python 3 (ipykernel)",
   "language": "python",
   "name": "python3"
  },
  "language_info": {
   "codemirror_mode": {
    "name": "ipython",
    "version": 3
   },
   "file_extension": ".py",
   "mimetype": "text/x-python",
   "name": "python",
   "nbconvert_exporter": "python",
   "pygments_lexer": "ipython3",
   "version": "3.10.12"
  }
 },
 "nbformat": 4,
 "nbformat_minor": 5
}
